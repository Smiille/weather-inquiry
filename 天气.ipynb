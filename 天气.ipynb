{
 "cells": [
  {
   "cell_type": "code",
   "execution_count": null,
   "metadata": {},
   "outputs": [],
   "source": [
    "import urllib.request\n",
    "import gzip\n",
    "import json"
   ]
  },
  {
   "cell_type": "code",
   "execution_count": null,
   "metadata": {},
   "outputs": [],
   "source": [
    "print('------天气查询------')\n",
    "def get_weather_data() :\n",
    "    city_name = input('请输入要查询的城市名称：')\n",
    "    url1 = 'http://wthrcdn.etouch.cn/weather_mini?city='+urllib.parse.quote(city_name)\n",
    "    url2 = 'http://wthrcdn.etouch.cn/weather_mini?citykey=101010100'\n",
    "    #输入城市名\n",
    "    weather_data = urllib.request.urlopen(url1).read()\n",
    "    #读取网页数据\n",
    "    weather_data = gzip.decompress(weather_data).decode('utf-8')\n",
    "    #解压网页数据\n",
    "    weather_dict = json.loads(weather_data)\n",
    "    #将json数据转换为dict数据\n",
    "    return weather_dict"
   ]
  },
  {
   "cell_type": "code",
   "execution_count": null,
   "metadata": {},
   "outputs": [],
   "source": [
    "def show_weather(weather_data):\n",
    "    weather_dict = weather_data\n",
    "    #输入数据\n",
    "    if weather_dict.get('desc') == 'invilad-citykey':\n",
    "        print('你输入的城市名有误，或者天气中心未收录你所在城市')\n",
    "    elif weather_dict.get('desc') =='OK':\n",
    "        forecast = weather_dict.get('data').get('forecast')\n",
    "        print('城市：',weather_dict.get('data').get('city'))\n",
    "        print('温度：',weather_dict.get('data').get('wendu')+'℃ ')\n",
    "        print('感冒：',weather_dict.get('data').get('ganmao'))\n",
    "        print('风向：',forecast[0].get('fengxiang'))\n",
    "        print('风级：',forecast[0].get('fengli'))\n",
    "        print('高温：',forecast[0].get('high'))\n",
    "        print('低温：',forecast[0].get('low'))\n",
    "        print('天气：',forecast[0].get('type'))\n",
    "        print('日期：',forecast[0].get('date'))\n",
    "        print('*******************************')\n",
    "        four_day_forecast =input('是否要显示未来四天天气，是/否：')\n",
    "        if four_day_forecast == '是':\n",
    "            for i in range(1,5):\n",
    "                print('日期：',forecast[i].get('date'))\n",
    "                print('风向：',forecast[i].get('fengxiang'))\n",
    "                print('风级：',forecast[i].get('fengli'))\n",
    "                print('高温：',forecast[i].get('high'))\n",
    "                print('低温：',forecast[i].get('low'))\n",
    "                print('天气：',forecast[i].get('type'))\n",
    "                print('--------------------------')\n",
    "        else:\n",
    "            print('---------感谢使用---------')\n",
    "    print('***********************************')"
   ]
  },
  {
   "cell_type": "code",
   "execution_count": null,
   "metadata": {},
   "outputs": [],
   "source": [
    "show_weather(get_weather_data())"
   ]
  }
 ],
 "metadata": {
  "kernelspec": {
   "display_name": "Python 3",
   "language": "python",
   "name": "python3"
  },
  "language_info": {
   "codemirror_mode": {
    "name": "ipython",
    "version": 3
   },
   "file_extension": ".py",
   "mimetype": "text/x-python",
   "name": "python",
   "nbconvert_exporter": "python",
   "pygments_lexer": "ipython3",
   "version": "3.7.6-final"
  }
 },
 "nbformat": 4,
 "nbformat_minor": 4
}